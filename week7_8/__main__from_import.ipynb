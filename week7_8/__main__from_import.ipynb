{
  "nbformat": 4,
  "nbformat_minor": 0,
  "metadata": {
    "colab": {
      "provenance": []
    },
    "kernelspec": {
      "name": "python3",
      "display_name": "Python 3"
    },
    "language_info": {
      "name": "python"
    }
  },
  "cells": [
    {
      "cell_type": "markdown",
      "source": [
        "## **__name__**\n",
        "## **from 폴더(folder) import 파일(file)**\n",
        "- **폴더 또는 경로(디렉토리) 생성(mkdir, makedirs 차이)**"
      ],
      "metadata": {
        "id": "P1tzIQJ9EWJ3"
      }
    },
    {
      "cell_type": "code",
      "source": [
        "print(__name__)"
      ],
      "metadata": {
        "colab": {
          "base_uri": "https://localhost:8080/"
        },
        "id": "EGl5-BV1G1KQ",
        "outputId": "095314d7-c34e-428a-9ab2-009dd8a5406d"
      },
      "execution_count": 12,
      "outputs": [
        {
          "output_type": "stream",
          "name": "stdout",
          "text": [
            "__main__\n"
          ]
        }
      ]
    },
    {
      "cell_type": "code",
      "execution_count": 1,
      "metadata": {
        "colab": {
          "base_uri": "https://localhost:8080/"
        },
        "id": "V7U9fUe1D_SQ",
        "outputId": "a3fcbe73-a17a-44fa-fbe5-679cb87cb03e"
      },
      "outputs": [
        {
          "output_type": "stream",
          "name": "stdout",
          "text": [
            "Writing apple.py\n"
          ]
        }
      ],
      "source": [
        "%%writefile apple.py\n",
        "# apple.py\n",
        "\n",
        "def sum(x,y):\n",
        "    return x+y\n",
        "\n",
        "def minus(x,y):\n",
        "    return x-y\n",
        "\n",
        "print( f'apple name = {__name__}')\n",
        "print('sum(2,3)= 5')\n",
        "print('minus(3,2)= 1')"
      ]
    },
    {
      "cell_type": "code",
      "source": [
        "import apple\n",
        "\n",
        "x= 5\n",
        "y= 3\n",
        "\n",
        "print (f'\\n x+y = {apple.sum(x,y)}')\n",
        "print (f'\\n bus name = {__name__}')"
      ],
      "metadata": {
        "colab": {
          "base_uri": "https://localhost:8080/"
        },
        "id": "lvuEXy5rEFBk",
        "outputId": "d554047f-153e-450b-f5f8-ca5c47f8dc45"
      },
      "execution_count": 5,
      "outputs": [
        {
          "output_type": "stream",
          "name": "stdout",
          "text": [
            "\n",
            " x+y = 8\n"
          ]
        }
      ]
    },
    {
      "cell_type": "code",
      "source": [
        "%%writefile mango.py\n",
        "# mango.py\n",
        "\n",
        "def sum(x,y):\n",
        "    return x+y\n",
        "\n",
        "def minus(x,y):\n",
        "    return x-y\n",
        "\n",
        "print( f'apple name = {__name__}')\n",
        "\n",
        "if __name__ == 'apple':     # 조건 추가\n",
        "    print('sum(2,3)= 5')\n",
        "\n",
        "if __name__ == '__main__':  # 조건 추가\n",
        "    print('minus(3,2)= 1')"
      ],
      "metadata": {
        "colab": {
          "base_uri": "https://localhost:8080/"
        },
        "id": "HdKf5Me1ERDk",
        "outputId": "709f8581-943b-43d4-a1cd-bf9afd15a91c"
      },
      "execution_count": 2,
      "outputs": [
        {
          "output_type": "stream",
          "name": "stdout",
          "text": [
            "Writing mango.py\n"
          ]
        }
      ]
    },
    {
      "cell_type": "code",
      "source": [
        "import mango\n",
        "\n",
        "x= 5\n",
        "y= 3\n",
        "\n",
        "print (f'\\n x+y = {mango.sum(x,y)}')\n",
        "print (f'\\n bus name = {__name__}')"
      ],
      "metadata": {
        "colab": {
          "base_uri": "https://localhost:8080/"
        },
        "id": "wIReAcW-E12-",
        "outputId": "619a8b75-6586-4e09-ee30-ed1863cdd6c1"
      },
      "execution_count": 3,
      "outputs": [
        {
          "output_type": "stream",
          "name": "stdout",
          "text": [
            "apple name = mango\n",
            "\n",
            " x+y = 8\n",
            "\n",
            " bus name = __main__\n"
          ]
        }
      ]
    },
    {
      "cell_type": "code",
      "source": [
        "def sum(x,y):\n",
        "    return x+y\n",
        "\n",
        "def minus(x,y):\n",
        "    return x-y\n",
        "\n",
        "print( f'apple name = {__name__}')\n",
        "\n",
        "if __name__ == 'apple':     # 조건 추가\n",
        "    print('sum(2,3)= 5')\n",
        "\n",
        "if __name__ == '__main__':  # 조건 추가\n",
        "    print('minus(3,2)= 1')"
      ],
      "metadata": {
        "colab": {
          "base_uri": "https://localhost:8080/"
        },
        "id": "rxBWhJ5nE4Rv",
        "outputId": "27acaab6-f2d7-432a-a077-27087ebd9033"
      },
      "execution_count": 4,
      "outputs": [
        {
          "output_type": "stream",
          "name": "stdout",
          "text": [
            "apple name = __main__\n",
            "minus(3,2)= 1\n"
          ]
        }
      ]
    },
    {
      "cell_type": "code",
      "source": [
        "import os\n",
        "\n",
        "# 폴더 생성\n",
        "os.mkdir('./new_folder')\n",
        "\n",
        "# 디렉토리 생성\n",
        "os.makedirs('./a/b/c', exist_ok=True)"
      ],
      "metadata": {
        "id": "1dDmW45QFq4P"
      },
      "execution_count": 6,
      "outputs": []
    },
    {
      "cell_type": "code",
      "source": [
        "%%writefile ./new_folder/melon.py\n",
        "# melon.py\n",
        "\n",
        "def sum(x,y):\n",
        "    return x+y\n",
        "\n",
        "def minus(x,y):\n",
        "    return x-y\n",
        "\n",
        "print( f'apple name = {__name__}')\n",
        "print('sum(2,3)= 5')\n",
        "print('minus(3,2)= 1')"
      ],
      "metadata": {
        "colab": {
          "base_uri": "https://localhost:8080/"
        },
        "id": "GkrAVVZDGXye",
        "outputId": "216e28e2-4722-4497-bc1e-968ecbb241e0"
      },
      "execution_count": 8,
      "outputs": [
        {
          "output_type": "stream",
          "name": "stdout",
          "text": [
            "Writing ./new_folder/melon.py\n"
          ]
        }
      ]
    },
    {
      "cell_type": "code",
      "source": [
        "from new_folder import melon\n",
        "\n",
        "x= 5\n",
        "y= 3\n",
        "\n",
        "print (f'\\n x+y = {melon.sum(x,y)}')\n",
        "print (f'\\n bus name = {__name__}')"
      ],
      "metadata": {
        "colab": {
          "base_uri": "https://localhost:8080/"
        },
        "id": "zAB3VTcPGhLh",
        "outputId": "a1667ec0-4331-4a61-b4a7-208a0a42720d"
      },
      "execution_count": 11,
      "outputs": [
        {
          "output_type": "stream",
          "name": "stdout",
          "text": [
            "\n",
            " x+y = 8\n",
            "\n",
            " bus name = __main__\n"
          ]
        }
      ]
    },
    {
      "cell_type": "code",
      "source": [],
      "metadata": {
        "id": "Uga_86OfGrLs"
      },
      "execution_count": null,
      "outputs": []
    }
  ]
}