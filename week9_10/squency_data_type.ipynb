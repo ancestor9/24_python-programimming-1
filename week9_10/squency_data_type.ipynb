{
  "nbformat": 4,
  "nbformat_minor": 0,
  "metadata": {
    "colab": {
      "provenance": []
    },
    "kernelspec": {
      "name": "python3",
      "display_name": "Python 3"
    },
    "language_info": {
      "name": "python"
    }
  },
  "cells": [
    {
      "cell_type": "markdown",
      "source": [
        "## **Sequency Data Type**\n",
        "<img src='https://prepinstadotcom.s3.ap-south-1.amazonaws.com/wp-content/uploads/2020/07/Sequence-Data-Types-in-Python-programmig-language.webp'>"
      ],
      "metadata": {
        "id": "Ed5dgXqLicJ6"
      }
    },
    {
      "cell_type": "code",
      "source": [
        "data= '월화수목금토'"
      ],
      "metadata": {
        "id": "zxjSbUtYiiw5"
      },
      "execution_count": 4,
      "outputs": []
    },
    {
      "cell_type": "code",
      "source": [
        "for i in range(len(data)):\n",
        "    print(data[i])\n",
        ""
      ],
      "metadata": {
        "colab": {
          "base_uri": "https://localhost:8080/"
        },
        "id": "TO2j7qsvii0S",
        "outputId": "90e2f6b4-e9f0-4983-8dab-62520d443286"
      },
      "execution_count": 5,
      "outputs": [
        {
          "output_type": "stream",
          "name": "stdout",
          "text": [
            "월\n",
            "화\n",
            "수\n",
            "목\n",
            "금\n",
            "토\n"
          ]
        }
      ]
    },
    {
      "cell_type": "code",
      "source": [
        "[print(data[i]) for i in range(len(data))]"
      ],
      "metadata": {
        "colab": {
          "base_uri": "https://localhost:8080/"
        },
        "id": "krRn3JabjKhE",
        "outputId": "986f7f33-e411-4fab-cc50-74ee8254e632"
      },
      "execution_count": 6,
      "outputs": [
        {
          "output_type": "stream",
          "name": "stdout",
          "text": [
            "월\n",
            "화\n",
            "수\n",
            "목\n",
            "금\n",
            "토\n"
          ]
        },
        {
          "output_type": "execute_result",
          "data": {
            "text/plain": [
              "[None, None, None, None, None, None]"
            ]
          },
          "metadata": {},
          "execution_count": 6
        }
      ]
    },
    {
      "cell_type": "code",
      "source": [
        "[data[i] for i in range(len(data))]"
      ],
      "metadata": {
        "colab": {
          "base_uri": "https://localhost:8080/"
        },
        "id": "Z7Ng6S3zjScC",
        "outputId": "ba020f34-9a4b-4149-ef61-b94576db4b29"
      },
      "execution_count": 7,
      "outputs": [
        {
          "output_type": "execute_result",
          "data": {
            "text/plain": [
              "['월', '화', '수', '목', '금', '토']"
            ]
          },
          "metadata": {},
          "execution_count": 7
        }
      ]
    },
    {
      "cell_type": "code",
      "source": [
        "mylist = [1,2,3,4,5,6,7,8,9,10]"
      ],
      "metadata": {
        "id": "oR2uEvB-V5vk"
      },
      "execution_count": 1,
      "outputs": []
    },
    {
      "cell_type": "code",
      "source": [
        "print(type(mylist))"
      ],
      "metadata": {
        "colab": {
          "base_uri": "https://localhost:8080/"
        },
        "id": "ByeZGoEmV6YB",
        "outputId": "c4f66882-973d-4b8a-ab8f-42d4535efd76"
      },
      "execution_count": null,
      "outputs": [
        {
          "output_type": "stream",
          "name": "stdout",
          "text": [
            "<class 'list'>\n"
          ]
        }
      ]
    },
    {
      "cell_type": "code",
      "source": [
        "mylist.append(11)"
      ],
      "metadata": {
        "id": "QYwf8eIZV6aX"
      },
      "execution_count": null,
      "outputs": []
    },
    {
      "cell_type": "code",
      "source": [
        "mylist"
      ],
      "metadata": {
        "colab": {
          "base_uri": "https://localhost:8080/"
        },
        "id": "KIHxwTf8V6c2",
        "outputId": "7b51c4cd-e2ea-4da5-a42f-e757c4029782"
      },
      "execution_count": null,
      "outputs": [
        {
          "output_type": "execute_result",
          "data": {
            "text/plain": [
              "[1, 2, 3, 4, 5, 6, 7, 8, 9, 10, 11]"
            ]
          },
          "metadata": {},
          "execution_count": 6
        }
      ]
    },
    {
      "cell_type": "code",
      "source": [
        "ord('Z') - ord('A') + 1"
      ],
      "metadata": {
        "colab": {
          "base_uri": "https://localhost:8080/"
        },
        "id": "KESx7quUj_Rd",
        "outputId": "5a45c7c9-ed84-45f2-e224-dcf3fdca7696"
      },
      "execution_count": 14,
      "outputs": [
        {
          "output_type": "execute_result",
          "data": {
            "text/plain": [
              "26"
            ]
          },
          "metadata": {},
          "execution_count": 14
        }
      ]
    },
    {
      "cell_type": "markdown",
      "source": [
        "### 1 ~ 100까지 원소를 갖는 mylist를 만들기"
      ],
      "metadata": {
        "id": "XqFomeboWfzp"
      }
    },
    {
      "cell_type": "code",
      "source": [
        "mylist = list(range(1,101))\n",
        "mylist"
      ],
      "metadata": {
        "id": "noy0QD06V6fN"
      },
      "execution_count": null,
      "outputs": []
    },
    {
      "cell_type": "code",
      "source": [
        "mylist=[]\n",
        "for i in range(1,101):\n",
        "  mylist.append(i)\n",
        "mylist"
      ],
      "metadata": {
        "id": "nQNPW5jtV6h0",
        "colab": {
          "base_uri": "https://localhost:8080/"
        },
        "outputId": "91d6b04c-ce44-4033-c767-ec2b546b0078"
      },
      "execution_count": null,
      "outputs": [
        {
          "output_type": "execute_result",
          "data": {
            "text/plain": [
              "[1,\n",
              " 2,\n",
              " 3,\n",
              " 4,\n",
              " 5,\n",
              " 6,\n",
              " 7,\n",
              " 8,\n",
              " 9,\n",
              " 10,\n",
              " 11,\n",
              " 12,\n",
              " 13,\n",
              " 14,\n",
              " 15,\n",
              " 16,\n",
              " 17,\n",
              " 18,\n",
              " 19,\n",
              " 20,\n",
              " 21,\n",
              " 22,\n",
              " 23,\n",
              " 24,\n",
              " 25,\n",
              " 26,\n",
              " 27,\n",
              " 28,\n",
              " 29,\n",
              " 30,\n",
              " 31,\n",
              " 32,\n",
              " 33,\n",
              " 34,\n",
              " 35,\n",
              " 36,\n",
              " 37,\n",
              " 38,\n",
              " 39,\n",
              " 40,\n",
              " 41,\n",
              " 42,\n",
              " 43,\n",
              " 44,\n",
              " 45,\n",
              " 46,\n",
              " 47,\n",
              " 48,\n",
              " 49,\n",
              " 50,\n",
              " 51,\n",
              " 52,\n",
              " 53,\n",
              " 54,\n",
              " 55,\n",
              " 56,\n",
              " 57,\n",
              " 58,\n",
              " 59,\n",
              " 60,\n",
              " 61,\n",
              " 62,\n",
              " 63,\n",
              " 64,\n",
              " 65,\n",
              " 66,\n",
              " 67,\n",
              " 68,\n",
              " 69,\n",
              " 70,\n",
              " 71,\n",
              " 72,\n",
              " 73,\n",
              " 74,\n",
              " 75,\n",
              " 76,\n",
              " 77,\n",
              " 78,\n",
              " 79,\n",
              " 80,\n",
              " 81,\n",
              " 82,\n",
              " 83,\n",
              " 84,\n",
              " 85,\n",
              " 86,\n",
              " 87,\n",
              " 88,\n",
              " 89,\n",
              " 90,\n",
              " 91,\n",
              " 92,\n",
              " 93,\n",
              " 94,\n",
              " 95,\n",
              " 96,\n",
              " 97,\n",
              " 98,\n",
              " 99,\n",
              " 100]"
            ]
          },
          "metadata": {},
          "execution_count": 1
        }
      ]
    },
    {
      "cell_type": "markdown",
      "source": [
        "## 10의 배수만 mylist"
      ],
      "metadata": {
        "id": "-18Y8HH6Xgnh"
      }
    },
    {
      "cell_type": "code",
      "source": [
        "mylist=[]\n",
        "for i in range(1,101):\n",
        "    if i%10==0:\n",
        "        mylist.append(i)\n",
        "\n",
        "mylist"
      ],
      "metadata": {
        "colab": {
          "base_uri": "https://localhost:8080/"
        },
        "id": "exSFBN7rV6lV",
        "outputId": "9174a3af-7b0b-4215-b3df-dcc5305948e1"
      },
      "execution_count": null,
      "outputs": [
        {
          "output_type": "execute_result",
          "data": {
            "text/plain": [
              "[10, 20, 30, 40, 50, 60, 70, 80, 90, 100]"
            ]
          },
          "metadata": {},
          "execution_count": 16
        }
      ]
    },
    {
      "cell_type": "code",
      "source": [
        "mytuple = tuple(mylist)\n",
        "mytuple"
      ],
      "metadata": {
        "colab": {
          "base_uri": "https://localhost:8080/"
        },
        "id": "uMqUqG4FV6os",
        "outputId": "fb951148-d0ab-41db-b8ab-dcd704aff53b"
      },
      "execution_count": null,
      "outputs": [
        {
          "output_type": "execute_result",
          "data": {
            "text/plain": [
              "(10, 20, 30, 40, 50, 60, 70, 80, 90, 100)"
            ]
          },
          "metadata": {},
          "execution_count": 18
        }
      ]
    },
    {
      "cell_type": "code",
      "source": [
        "for i in mytuple:  # iterable\n",
        "    print(i)"
      ],
      "metadata": {
        "colab": {
          "base_uri": "https://localhost:8080/"
        },
        "id": "CKsg28qgXmxn",
        "outputId": "71a3ecbc-7f07-433b-bf40-6118cc2dac17"
      },
      "execution_count": null,
      "outputs": [
        {
          "output_type": "stream",
          "name": "stdout",
          "text": [
            "10\n",
            "20\n",
            "30\n",
            "40\n",
            "50\n",
            "60\n",
            "70\n",
            "80\n",
            "90\n",
            "100\n"
          ]
        }
      ]
    },
    {
      "cell_type": "code",
      "source": [
        "print(type(mytuple))"
      ],
      "metadata": {
        "colab": {
          "base_uri": "https://localhost:8080/"
        },
        "id": "J_863b_nYFLA",
        "outputId": "df8fe02a-01be-4614-de2b-eebbdf957385"
      },
      "execution_count": null,
      "outputs": [
        {
          "output_type": "stream",
          "name": "stdout",
          "text": [
            "<class 'tuple'>\n"
          ]
        }
      ]
    },
    {
      "cell_type": "code",
      "source": [
        "myset = set(mylist) # set(mytuple)\n",
        "myset"
      ],
      "metadata": {
        "colab": {
          "base_uri": "https://localhost:8080/"
        },
        "id": "LsqFrB0QXm0Y",
        "outputId": "4e79b5e4-c11f-4718-abf7-8b061a44f5d2"
      },
      "execution_count": null,
      "outputs": [
        {
          "output_type": "execute_result",
          "data": {
            "text/plain": [
              "{10, 20, 30, 40, 50, 60, 70, 80, 90, 100}"
            ]
          },
          "metadata": {},
          "execution_count": 25
        }
      ]
    },
    {
      "cell_type": "markdown",
      "source": [
        "## subscriptable? Sequence ?"
      ],
      "metadata": {
        "id": "f8cmQHEoYU9V"
      }
    },
    {
      "cell_type": "code",
      "source": [
        "text = '12345'"
      ],
      "metadata": {
        "id": "ab8n0chkYZ7V"
      },
      "execution_count": null,
      "outputs": []
    },
    {
      "cell_type": "code",
      "source": [
        "text[0]"
      ],
      "metadata": {
        "colab": {
          "base_uri": "https://localhost:8080/",
          "height": 35
        },
        "id": "bxcPR1cAYZ91",
        "outputId": "e9603604-1f52-46a9-d72c-0040e3e267c4"
      },
      "execution_count": null,
      "outputs": [
        {
          "output_type": "execute_result",
          "data": {
            "text/plain": [
              "'1'"
            ],
            "application/vnd.google.colaboratory.intrinsic+json": {
              "type": "string"
            }
          },
          "metadata": {},
          "execution_count": 28
        }
      ]
    },
    {
      "cell_type": "code",
      "source": [
        "for i in range(len(text)):\n",
        "    print(text[i])"
      ],
      "metadata": {
        "colab": {
          "base_uri": "https://localhost:8080/"
        },
        "id": "utpfIfXeYaBO",
        "outputId": "d9f27312-955a-4e19-e27a-4399e209ff20"
      },
      "execution_count": null,
      "outputs": [
        {
          "output_type": "stream",
          "name": "stdout",
          "text": [
            "1\n",
            "2\n",
            "3\n",
            "4\n",
            "5\n"
          ]
        }
      ]
    },
    {
      "cell_type": "code",
      "source": [
        "list(text)"
      ],
      "metadata": {
        "colab": {
          "base_uri": "https://localhost:8080/"
        },
        "id": "Fq_baOOQY57j",
        "outputId": "bb39dc6e-23fd-4e89-c689-31f775d1a876"
      },
      "execution_count": null,
      "outputs": [
        {
          "output_type": "execute_result",
          "data": {
            "text/plain": [
              "['1', '2', '3', '4', '5']"
            ]
          },
          "metadata": {},
          "execution_count": 31
        }
      ]
    },
    {
      "cell_type": "code",
      "source": [
        "for i in range(len(mylist)):\n",
        "    print(mylist[i])"
      ],
      "metadata": {
        "colab": {
          "base_uri": "https://localhost:8080/"
        },
        "id": "mr5wPDOCYzPi",
        "outputId": "9e1dfc4e-eaba-49e8-bc6a-f2fd7e9383bf"
      },
      "execution_count": null,
      "outputs": [
        {
          "output_type": "stream",
          "name": "stdout",
          "text": [
            "10\n",
            "20\n",
            "30\n",
            "40\n",
            "50\n",
            "60\n",
            "70\n",
            "80\n",
            "90\n",
            "100\n"
          ]
        }
      ]
    },
    {
      "cell_type": "code",
      "source": [
        "for i in range(len(mytuple)):\n",
        "    print(mytuple[i])"
      ],
      "metadata": {
        "colab": {
          "base_uri": "https://localhost:8080/"
        },
        "id": "zsbeS9NSYzRt",
        "outputId": "5d0ee4f4-682e-48fb-a04a-0592067e51a4"
      },
      "execution_count": null,
      "outputs": [
        {
          "output_type": "stream",
          "name": "stdout",
          "text": [
            "10\n",
            "20\n",
            "30\n",
            "40\n",
            "50\n",
            "60\n",
            "70\n",
            "80\n",
            "90\n",
            "100\n"
          ]
        }
      ]
    },
    {
      "cell_type": "code",
      "source": [
        "for i in range(len(myset)):\n",
        "    print(myset[i])"
      ],
      "metadata": {
        "colab": {
          "base_uri": "https://localhost:8080/",
          "height": 164
        },
        "id": "RCKId24IYzVD",
        "outputId": "dd8d9520-6417-4d13-abfd-2e3b4559d755"
      },
      "execution_count": null,
      "outputs": [
        {
          "output_type": "error",
          "ename": "TypeError",
          "evalue": "'set' object is not subscriptable",
          "traceback": [
            "\u001b[0;31m---------------------------------------------------------------------------\u001b[0m",
            "\u001b[0;31mTypeError\u001b[0m                                 Traceback (most recent call last)",
            "\u001b[0;32m<ipython-input-34-b308d6b49128>\u001b[0m in \u001b[0;36m<cell line: 1>\u001b[0;34m()\u001b[0m\n\u001b[1;32m      1\u001b[0m \u001b[0;32mfor\u001b[0m \u001b[0mi\u001b[0m \u001b[0;32min\u001b[0m \u001b[0mrange\u001b[0m\u001b[0;34m(\u001b[0m\u001b[0mlen\u001b[0m\u001b[0;34m(\u001b[0m\u001b[0mmyset\u001b[0m\u001b[0;34m)\u001b[0m\u001b[0;34m)\u001b[0m\u001b[0;34m:\u001b[0m\u001b[0;34m\u001b[0m\u001b[0;34m\u001b[0m\u001b[0m\n\u001b[0;32m----> 2\u001b[0;31m     \u001b[0mprint\u001b[0m\u001b[0;34m(\u001b[0m\u001b[0mmyset\u001b[0m\u001b[0;34m[\u001b[0m\u001b[0mi\u001b[0m\u001b[0;34m]\u001b[0m\u001b[0;34m)\u001b[0m\u001b[0;34m\u001b[0m\u001b[0;34m\u001b[0m\u001b[0m\n\u001b[0m",
            "\u001b[0;31mTypeError\u001b[0m: 'set' object is not subscriptable"
          ]
        }
      ]
    },
    {
      "cell_type": "markdown",
      "source": [
        "## Why ?"
      ],
      "metadata": {
        "id": "6BCUGZEwZS0J"
      }
    },
    {
      "cell_type": "code",
      "source": [
        "set([1,2,3]*3)"
      ],
      "metadata": {
        "colab": {
          "base_uri": "https://localhost:8080/"
        },
        "id": "t3ybYKBuXm3v",
        "outputId": "295b5ab3-4382-46d3-f0b4-a17956625527"
      },
      "execution_count": null,
      "outputs": [
        {
          "output_type": "execute_result",
          "data": {
            "text/plain": [
              "{1, 2, 3}"
            ]
          },
          "metadata": {},
          "execution_count": 36
        }
      ]
    },
    {
      "cell_type": "markdown",
      "source": [
        "## 사칙연산"
      ],
      "metadata": {
        "id": "T5gvqsCpZtRj"
      }
    },
    {
      "cell_type": "code",
      "source": [
        "mylist + [100, 200]"
      ],
      "metadata": {
        "colab": {
          "base_uri": "https://localhost:8080/"
        },
        "id": "ou_9JVuSZiso",
        "outputId": "4dcb167a-d7ae-4d24-ca2a-1ae59f0b8af6"
      },
      "execution_count": null,
      "outputs": [
        {
          "output_type": "execute_result",
          "data": {
            "text/plain": [
              "[10, 20, 30, 40, 50, 60, 70, 80, 90, 100, 100, 200]"
            ]
          },
          "metadata": {},
          "execution_count": 39
        }
      ]
    },
    {
      "cell_type": "markdown",
      "source": [
        "## 사전형자료"
      ],
      "metadata": {
        "id": "m0Nq4qwWZivk"
      }
    },
    {
      "cell_type": "code",
      "source": [
        "mylist"
      ],
      "metadata": {
        "colab": {
          "base_uri": "https://localhost:8080/"
        },
        "id": "jXx0t-vqZiye",
        "outputId": "5a2d726d-a7b2-4465-d848-a7122520af03"
      },
      "execution_count": null,
      "outputs": [
        {
          "output_type": "execute_result",
          "data": {
            "text/plain": [
              "[10, 20, 30, 40, 50, 60, 70, 80, 90, 100]"
            ]
          },
          "metadata": {},
          "execution_count": 40
        }
      ]
    },
    {
      "cell_type": "code",
      "source": [
        "for i in enumerate(mylist):\n",
        "    print(i)"
      ],
      "metadata": {
        "colab": {
          "base_uri": "https://localhost:8080/"
        },
        "id": "qaLrVVSiZi1R",
        "outputId": "03184b78-528d-45f5-86bc-110c6e01ad6d"
      },
      "execution_count": null,
      "outputs": [
        {
          "output_type": "stream",
          "name": "stdout",
          "text": [
            "(0, 10)\n",
            "(1, 20)\n",
            "(2, 30)\n",
            "(3, 40)\n",
            "(4, 50)\n",
            "(5, 60)\n",
            "(6, 70)\n",
            "(7, 80)\n",
            "(8, 90)\n",
            "(9, 100)\n"
          ]
        }
      ]
    },
    {
      "cell_type": "code",
      "source": [
        "1,2,3,4,5"
      ],
      "metadata": {
        "colab": {
          "base_uri": "https://localhost:8080/"
        },
        "id": "g8PJ4_cHaHpD",
        "outputId": "f0119460-ef8c-4b95-83e6-4b38ab9c56d7"
      },
      "execution_count": null,
      "outputs": [
        {
          "output_type": "execute_result",
          "data": {
            "text/plain": [
              "(1, 2, 3, 4, 5)"
            ]
          },
          "metadata": {},
          "execution_count": 42
        }
      ]
    },
    {
      "cell_type": "code",
      "source": [
        "for i, j in enumerate(mylist):\n",
        "    print(i, j)"
      ],
      "metadata": {
        "colab": {
          "base_uri": "https://localhost:8080/"
        },
        "id": "0wJhBQU5aHsa",
        "outputId": "dbb3482d-310f-432d-ceac-28c2758de3f1"
      },
      "execution_count": null,
      "outputs": [
        {
          "output_type": "stream",
          "name": "stdout",
          "text": [
            "0 10\n",
            "1 20\n",
            "2 30\n",
            "3 40\n",
            "4 50\n",
            "5 60\n",
            "6 70\n",
            "7 80\n",
            "8 90\n",
            "9 100\n"
          ]
        }
      ]
    },
    {
      "cell_type": "code",
      "source": [
        "mydate= [0,1,2,3,4,5,6]"
      ],
      "metadata": {
        "id": "mV3KZOvJbOfQ"
      },
      "execution_count": null,
      "outputs": []
    },
    {
      "cell_type": "code",
      "source": [
        "mydict ={}\n",
        "key = '월화수목금토일'\n",
        "for i, j in enumerate(mylist):\n",
        "    mydict[key[i]] = j\n",
        "mydict"
      ],
      "metadata": {
        "colab": {
          "base_uri": "https://localhost:8080/"
        },
        "id": "_fZjDqJbaJ1p",
        "outputId": "8726bc19-a8a2-4905-a7e6-c022d7a44dc4"
      },
      "execution_count": null,
      "outputs": [
        {
          "output_type": "execute_result",
          "data": {
            "text/plain": [
              "{'월': 0, '화': 1, '수': 2, '목': 3, '금': 4, '토': 5, '일': 6}"
            ]
          },
          "metadata": {},
          "execution_count": 52
        }
      ]
    },
    {
      "cell_type": "code",
      "source": [
        "mydict[0]"
      ],
      "metadata": {
        "colab": {
          "base_uri": "https://localhost:8080/",
          "height": 145
        },
        "id": "lTAgP0xsaJ4i",
        "outputId": "a0c8c466-1cb3-4e98-91f5-54b65d35cc36"
      },
      "execution_count": null,
      "outputs": [
        {
          "output_type": "error",
          "ename": "KeyError",
          "evalue": "0",
          "traceback": [
            "\u001b[0;31m---------------------------------------------------------------------------\u001b[0m",
            "\u001b[0;31mKeyError\u001b[0m                                  Traceback (most recent call last)",
            "\u001b[0;32m<ipython-input-54-1529edbf7ad5>\u001b[0m in \u001b[0;36m<cell line: 1>\u001b[0;34m()\u001b[0m\n\u001b[0;32m----> 1\u001b[0;31m \u001b[0mmydict\u001b[0m\u001b[0;34m[\u001b[0m\u001b[0;36m0\u001b[0m\u001b[0;34m]\u001b[0m\u001b[0;34m\u001b[0m\u001b[0;34m\u001b[0m\u001b[0m\n\u001b[0m",
            "\u001b[0;31mKeyError\u001b[0m: 0"
          ]
        }
      ]
    },
    {
      "cell_type": "code",
      "source": [
        "mydict['월']"
      ],
      "metadata": {
        "colab": {
          "base_uri": "https://localhost:8080/"
        },
        "id": "m59z8UPbaJ74",
        "outputId": "31badecf-4e37-49b8-a2c5-82da563e6a77"
      },
      "execution_count": null,
      "outputs": [
        {
          "output_type": "execute_result",
          "data": {
            "text/plain": [
              "0"
            ]
          },
          "metadata": {},
          "execution_count": 55
        }
      ]
    },
    {
      "cell_type": "code",
      "source": [
        "for i in mydict:\n",
        "    print(i, mydict[i])"
      ],
      "metadata": {
        "colab": {
          "base_uri": "https://localhost:8080/"
        },
        "id": "ApfXvdwrbqZS",
        "outputId": "65b4573e-5991-42d6-e126-abd4c8e86d17"
      },
      "execution_count": null,
      "outputs": [
        {
          "output_type": "stream",
          "name": "stdout",
          "text": [
            "월 0\n",
            "화 1\n",
            "수 2\n",
            "목 3\n",
            "금 4\n",
            "토 5\n",
            "일 6\n"
          ]
        }
      ]
    },
    {
      "cell_type": "code",
      "source": [
        "for i, j in mydict.items():\n",
        "    print(i, j)"
      ],
      "metadata": {
        "colab": {
          "base_uri": "https://localhost:8080/"
        },
        "id": "Dxof-V4Tbqbr",
        "outputId": "ec5a5e0d-422e-493a-b510-8a0d1b0c6974"
      },
      "execution_count": null,
      "outputs": [
        {
          "output_type": "stream",
          "name": "stdout",
          "text": [
            "월 0\n",
            "화 1\n",
            "수 2\n",
            "목 3\n",
            "금 4\n",
            "토 5\n",
            "일 6\n"
          ]
        }
      ]
    },
    {
      "cell_type": "code",
      "source": [
        "import numpy as np\n",
        "arr = np.random.randint(1, 6, size=1000)\n",
        "arr"
      ],
      "metadata": {
        "colab": {
          "base_uri": "https://localhost:8080/"
        },
        "id": "Y47bUvpEbqef",
        "outputId": "6de68938-e777-48a8-cf78-18b47805231b"
      },
      "execution_count": null,
      "outputs": [
        {
          "output_type": "execute_result",
          "data": {
            "text/plain": [
              "array([3, 3, 5, 3, 1, 4, 2, 3, 4, 3, 1, 3, 2, 2, 2, 1, 4, 2, 2, 3, 1, 5,\n",
              "       2, 4, 5, 5, 5, 2, 2, 3, 1, 3, 2, 1, 1, 3, 2, 2, 2, 4, 5, 2, 3, 2,\n",
              "       3, 1, 2, 4, 5, 1, 3, 4, 4, 2, 1, 2, 4, 1, 1, 2, 1, 1, 2, 2, 3, 4,\n",
              "       4, 5, 5, 5, 1, 1, 5, 5, 2, 1, 5, 1, 3, 1, 1, 5, 1, 1, 1, 2, 2, 4,\n",
              "       1, 5, 5, 2, 5, 2, 5, 1, 1, 4, 1, 3, 2, 4, 5, 3, 4, 5, 3, 4, 1, 2,\n",
              "       4, 5, 1, 3, 4, 4, 1, 1, 3, 5, 5, 3, 4, 4, 5, 5, 2, 2, 3, 5, 5, 1,\n",
              "       5, 5, 4, 1, 4, 1, 2, 2, 3, 2, 3, 1, 1, 5, 4, 3, 5, 5, 5, 2, 1, 3,\n",
              "       2, 1, 2, 4, 3, 2, 5, 2, 3, 5, 4, 4, 1, 5, 4, 5, 4, 4, 3, 5, 2, 4,\n",
              "       1, 2, 4, 1, 4, 2, 3, 5, 4, 1, 3, 4, 5, 2, 4, 2, 1, 2, 5, 3, 3, 5,\n",
              "       4, 5, 3, 4, 3, 3, 2, 1, 1, 4, 3, 5, 5, 2, 4, 1, 1, 1, 1, 2, 3, 1,\n",
              "       5, 2, 2, 4, 4, 1, 4, 1, 4, 3, 5, 5, 3, 3, 4, 3, 1, 1, 3, 2, 2, 5,\n",
              "       4, 5, 2, 4, 5, 3, 4, 2, 3, 4, 4, 2, 4, 3, 2, 5, 1, 5, 3, 4, 4, 5,\n",
              "       4, 1, 4, 4, 3, 4, 4, 4, 2, 3, 2, 4, 5, 4, 1, 3, 2, 5, 3, 1, 1, 3,\n",
              "       5, 2, 3, 2, 2, 5, 1, 2, 4, 5, 2, 1, 2, 3, 4, 4, 4, 1, 2, 3, 5, 4,\n",
              "       4, 1, 4, 5, 4, 2, 3, 1, 3, 5, 1, 2, 5, 1, 4, 3, 2, 4, 5, 5, 1, 1,\n",
              "       3, 5, 1, 1, 1, 4, 5, 3, 2, 3, 3, 4, 2, 4, 4, 2, 5, 3, 3, 4, 4, 1,\n",
              "       5, 3, 2, 1, 3, 3, 2, 5, 4, 2, 1, 1, 3, 4, 1, 5, 3, 2, 2, 3, 1, 4,\n",
              "       3, 2, 4, 3, 4, 4, 2, 4, 1, 1, 3, 3, 2, 4, 1, 1, 4, 4, 1, 2, 3, 4,\n",
              "       5, 4, 5, 1, 1, 1, 4, 1, 5, 3, 4, 2, 2, 2, 2, 5, 3, 5, 3, 4, 4, 3,\n",
              "       3, 3, 3, 5, 2, 4, 4, 4, 1, 5, 5, 5, 5, 1, 1, 2, 5, 4, 3, 2, 1, 5,\n",
              "       4, 2, 3, 2, 1, 5, 3, 4, 3, 3, 4, 3, 2, 3, 1, 2, 4, 2, 3, 2, 3, 5,\n",
              "       2, 3, 1, 2, 4, 3, 3, 2, 4, 2, 5, 3, 2, 5, 4, 3, 4, 2, 5, 3, 1, 3,\n",
              "       4, 1, 3, 4, 3, 2, 3, 5, 4, 3, 4, 5, 4, 5, 2, 3, 5, 4, 2, 3, 2, 3,\n",
              "       2, 1, 2, 2, 3, 2, 2, 4, 3, 5, 4, 3, 3, 1, 4, 3, 1, 2, 1, 3, 4, 2,\n",
              "       4, 3, 3, 2, 2, 4, 3, 2, 5, 3, 3, 3, 3, 2, 3, 1, 4, 4, 1, 4, 4, 3,\n",
              "       5, 5, 3, 1, 5, 3, 3, 3, 3, 1, 3, 4, 3, 4, 1, 2, 2, 5, 5, 5, 3, 3,\n",
              "       1, 4, 4, 2, 1, 1, 3, 4, 4, 5, 4, 2, 1, 3, 2, 1, 1, 4, 4, 3, 2, 5,\n",
              "       3, 1, 4, 1, 1, 5, 3, 2, 5, 1, 3, 1, 5, 4, 4, 3, 5, 3, 4, 1, 4, 4,\n",
              "       1, 3, 1, 5, 2, 1, 2, 1, 5, 5, 1, 3, 4, 3, 2, 2, 2, 3, 2, 3, 1, 3,\n",
              "       1, 5, 1, 5, 1, 1, 3, 5, 1, 4, 2, 1, 1, 4, 3, 5, 3, 3, 2, 2, 1, 1,\n",
              "       5, 1, 5, 2, 1, 3, 1, 1, 4, 3, 3, 3, 2, 1, 4, 3, 5, 2, 4, 1, 1, 2,\n",
              "       2, 4, 5, 5, 5, 3, 4, 3, 4, 2, 1, 4, 3, 3, 2, 4, 5, 2, 5, 4, 5, 4,\n",
              "       4, 5, 3, 4, 4, 2, 3, 2, 3, 3, 3, 2, 2, 5, 4, 4, 1, 2, 2, 5, 5, 1,\n",
              "       5, 3, 4, 3, 4, 3, 5, 5, 2, 2, 5, 5, 1, 3, 4, 3, 2, 5, 5, 4, 2, 5,\n",
              "       2, 1, 5, 3, 4, 4, 3, 4, 5, 3, 4, 1, 4, 4, 1, 2, 1, 1, 1, 2, 5, 5,\n",
              "       4, 5, 5, 3, 3, 1, 1, 1, 5, 3, 3, 2, 2, 1, 2, 5, 2, 5, 3, 4, 2, 2,\n",
              "       2, 3, 1, 2, 3, 1, 2, 5, 1, 5, 1, 4, 5, 2, 1, 4, 3, 2, 1, 5, 3, 2,\n",
              "       2, 3, 2, 1, 3, 5, 4, 3, 4, 1, 5, 1, 5, 2, 1, 2, 5, 3, 4, 5, 2, 1,\n",
              "       3, 3, 1, 3, 2, 2, 2, 1, 5, 2, 2, 4, 3, 3, 4, 4, 2, 1, 4, 4, 3, 5,\n",
              "       2, 4, 1, 5, 3, 5, 4, 2, 5, 4, 4, 3, 5, 4, 2, 1, 4, 4, 3, 5, 1, 4,\n",
              "       4, 1, 1, 5, 4, 5, 4, 3, 4, 1, 2, 3, 2, 5, 4, 4, 5, 5, 2, 3, 2, 3,\n",
              "       3, 1, 2, 5, 2, 5, 5, 4, 5, 1, 4, 4, 5, 5, 3, 3, 2, 3, 5, 3, 2, 3,\n",
              "       5, 3, 5, 2, 3, 4, 1, 1, 5, 1, 4, 4, 5, 3, 3, 3, 1, 3, 2, 3, 1, 4,\n",
              "       5, 4, 2, 5, 1, 3, 2, 1, 2, 1, 5, 2, 1, 2, 4, 1, 2, 5, 5, 5, 5, 1,\n",
              "       1, 5, 1, 4, 4, 1, 4, 4, 3, 4, 5, 3, 4, 2, 2, 4, 4, 3, 1, 3, 3, 5,\n",
              "       2, 4, 5, 1, 3, 1, 1, 3, 3, 3])"
            ]
          },
          "metadata": {},
          "execution_count": 62
        }
      ]
    },
    {
      "cell_type": "markdown",
      "source": [
        "### 각 수자의 출현빈도를 구하라(Find the frequency of occurrence of each number). 단 파이썬의 내장함수만 사용하라"
      ],
      "metadata": {
        "id": "tuUkzpN_bqhp"
      }
    },
    {
      "cell_type": "code",
      "source": [
        "from collections import Counter\n",
        "frequencies = Counter(arr)\n",
        "frequencies"
      ],
      "metadata": {
        "colab": {
          "base_uri": "https://localhost:8080/"
        },
        "id": "XQTMmE0hdY5b",
        "outputId": "eb1657f4-afde-48d3-bbb8-a4b9e3702294"
      },
      "execution_count": null,
      "outputs": [
        {
          "output_type": "execute_result",
          "data": {
            "text/plain": [
              "Counter({3: 218, 5: 186, 1: 192, 4: 208, 2: 196})"
            ]
          },
          "metadata": {},
          "execution_count": 64
        }
      ]
    },
    {
      "cell_type": "code",
      "source": [
        "# 빈 딕셔너리 생성\n",
        "frequencies = {}\n",
        "\n",
        "# 배열의 각 요소에 대해 반복\n",
        "for number in arr:\n",
        "    if number in frequencies:\n",
        "        frequencies[number] += 1  # 숫자가 딕셔너리에 있으면 카운트 증가\n",
        "    else:\n",
        "        frequencies[number] = 1  # 숫자가 처음 나온 경우, 딕셔너리에 추가하고 카운트를 1로 설정\n",
        "\n",
        "frequencies"
      ],
      "metadata": {
        "colab": {
          "base_uri": "https://localhost:8080/"
        },
        "id": "jujS8p-0dhrf",
        "outputId": "871fbda8-315e-49d4-e9d1-993303dfb41b"
      },
      "execution_count": null,
      "outputs": [
        {
          "output_type": "execute_result",
          "data": {
            "text/plain": [
              "{3: 218, 5: 186, 1: 192, 4: 208, 2: 196}"
            ]
          },
          "metadata": {},
          "execution_count": 83
        }
      ]
    },
    {
      "cell_type": "code",
      "source": [
        "# prompt: freguency를 시각화해줘\n",
        "\n",
        "import matplotlib.pyplot as plt\n",
        "\n",
        "# 막대 그래프를 그리기 위해 빈도수를 정렬\n",
        "frequencies = sorted(frequencies.items())\n",
        "\n",
        "x_values = [key for key, value in frequencies]\n",
        "y_values = [value for key, value in frequencies]\n",
        "\n",
        "plt.bar(x_values, y_values)\n",
        "plt.xlabel(\"Number\")\n",
        "plt.ylabel(\"Frequency\")\n",
        "plt.title(\"Frequency of Occurrence of Each Number\")\n",
        "plt.show()\n"
      ],
      "metadata": {
        "colab": {
          "base_uri": "https://localhost:8080/",
          "height": 472
        },
        "id": "uXJT5M2TZi40",
        "outputId": "9c8d0102-4b4d-4af6-c3e4-f72f01c53220"
      },
      "execution_count": null,
      "outputs": [
        {
          "output_type": "display_data",
          "data": {
            "text/plain": [
              "<Figure size 640x480 with 1 Axes>"
            ],
            "image/png": "[encoded data removed]"
          },
          "metadata": {}
        }
      ]
    },
    {
      "cell_type": "markdown",
      "source": [
        "## 확률"
      ],
      "metadata": {
        "id": "RDKmmCCJgm56"
      }
    },
    {
      "cell_type": "code",
      "source": [
        "myprob={}\n",
        "for num, freq in frequencies.items():\n",
        "    print(f\"Number: {num}, Frequency: {freq}\")\n",
        "    myprob[num] = freq/len(arr)\n",
        "myprob"
      ],
      "metadata": {
        "colab": {
          "base_uri": "https://localhost:8080/"
        },
        "id": "ebtVX5Y4gowN",
        "outputId": "22ea7492-5cf4-4baf-84d2-bd7c5ac0dccf"
      },
      "execution_count": null,
      "outputs": [
        {
          "output_type": "stream",
          "name": "stdout",
          "text": [
            "Number: 3, Frequency: 218\n",
            "Number: 5, Frequency: 186\n",
            "Number: 1, Frequency: 192\n",
            "Number: 4, Frequency: 208\n",
            "Number: 2, Frequency: 196\n"
          ]
        },
        {
          "output_type": "execute_result",
          "data": {
            "text/plain": [
              "{3: 0.218, 5: 0.186, 1: 0.192, 4: 0.208, 2: 0.196}"
            ]
          },
          "metadata": {},
          "execution_count": 85
        }
      ]
    },
    {
      "cell_type": "code",
      "source": [
        "myprob.keys()"
      ],
      "metadata": {
        "colab": {
          "base_uri": "https://localhost:8080/"
        },
        "id": "iTdkHU6OhX7F",
        "outputId": "38ebcbcf-8045-4ae7-8aae-1ed004f412ca"
      },
      "execution_count": null,
      "outputs": [
        {
          "output_type": "execute_result",
          "data": {
            "text/plain": [
              "dict_keys([3, 5, 1, 4, 2])"
            ]
          },
          "metadata": {},
          "execution_count": 88
        }
      ]
    },
    {
      "cell_type": "code",
      "source": [
        "myprob.values()"
      ],
      "metadata": {
        "colab": {
          "base_uri": "https://localhost:8080/"
        },
        "id": "W9u-9w1RhVX_",
        "outputId": "ee1937aa-d1f1-4825-cc49-916a9587df67"
      },
      "execution_count": null,
      "outputs": [
        {
          "output_type": "execute_result",
          "data": {
            "text/plain": [
              "dict_values([0.218, 0.186, 0.192, 0.208, 0.196])"
            ]
          },
          "metadata": {},
          "execution_count": 87
        }
      ]
    },
    {
      "cell_type": "code",
      "source": [
        "# prompt: myprob의 value를 모두 합산하라\n",
        "\n",
        "sum_of_probabilities = sum(myprob.values())\n",
        "print(f\"Sum of probabilities: {sum_of_probabilities}\")\n"
      ],
      "metadata": {
        "colab": {
          "base_uri": "https://localhost:8080/"
        },
        "id": "ehrfzDtkhNSI",
        "outputId": "431862a1-b645-4315-94ff-21b4a6a8fbcb"
      },
      "execution_count": null,
      "outputs": [
        {
          "output_type": "stream",
          "name": "stdout",
          "text": [
            "Sum of probabilities: 1.0\n"
          ]
        }
      ]
    },
    {
      "cell_type": "markdown",
      "source": [
        "# 축약문 (List comprehension)"
      ],
      "metadata": {
        "id": "AXIzHx0meYo4"
      }
    },
    {
      "cell_type": "code",
      "source": [
        "# 1부터 20까지의 숫자 중 짝수만 포함하는 리스트 생성\n",
        "even_numbers = [x for x in range(1, 21) if x % 2 == 0]\n",
        "print(even_numbers)  # 출력: [2, 4, 6, 8, 10, 12, 14, 16, 18, 20]"
      ],
      "metadata": {
        "colab": {
          "base_uri": "https://localhost:8080/"
        },
        "id": "qUQ9NffledeJ",
        "outputId": "1f405e27-1949-472d-8783-89810cf6bcae"
      },
      "execution_count": null,
      "outputs": [
        {
          "output_type": "stream",
          "name": "stdout",
          "text": [
            "[2, 4, 6, 8, 10, 12, 14, 16, 18, 20]\n"
          ]
        }
      ]
    },
    {
      "cell_type": "code",
      "source": [
        "# 문자열 리스트에서 길이가 5 이상인 문자열만을 선택\n",
        "words = [\"apple\", \"banana\", \"cherry\", \"kiwi\", \"mango\"]\n",
        "long_words = [word for word in words if len(word) >= 5]\n",
        "print(long_words)  # 출력: ['apple', 'banana', 'cherry', 'mango']"
      ],
      "metadata": {
        "colab": {
          "base_uri": "https://localhost:8080/"
        },
        "id": "G0zfj3gyedhd",
        "outputId": "91ca6da7-873e-4461-a9c4-990dd9aa5d55"
      },
      "execution_count": null,
      "outputs": [
        {
          "output_type": "stream",
          "name": "stdout",
          "text": [
            "['apple', 'banana', 'cherry', 'mango']\n"
          ]
        }
      ]
    },
    {
      "cell_type": "markdown",
      "source": [
        "## Module?"
      ],
      "metadata": {
        "id": "c3v56nuGeOQH"
      }
    },
    {
      "cell_type": "code",
      "execution_count": null,
      "metadata": {
        "colab": {
          "base_uri": "https://localhost:8080/"
        },
        "id": "S2I2YyUU972O",
        "outputId": "f8d6438c-9772-4dd8-bd1e-2f3cc5359964"
      },
      "outputs": [
        {
          "output_type": "stream",
          "name": "stdout",
          "text": [
            "This program is being run by itself\n"
          ]
        }
      ],
      "source": [
        "if __name__ == '__main__':\n",
        "    print('This program is being run by itself')\n",
        "else:\n",
        "    print('I am being imported from another module')"
      ]
    },
    {
      "cell_type": "code",
      "source": [
        "%%writefile mymodule.py:\n",
        "def say_hi():\n",
        "    print('Hi, this is mymodule speaking.')\n",
        "\n",
        "__version__ = '0.1'"
      ],
      "metadata": {
        "colab": {
          "base_uri": "https://localhost:8080/"
        },
        "id": "y9e-twTP7lhv",
        "outputId": "6bd1f20e-f2aa-4bcd-acd6-a3a4f7672124"
      },
      "execution_count": null,
      "outputs": [
        {
          "output_type": "stream",
          "name": "stdout",
          "text": [
            "Overwriting mymodule.py:\n"
          ]
        }
      ]
    },
    {
      "cell_type": "code",
      "source": [
        "import os\n",
        "\n",
        "# Print current working directory\n",
        "print(\"Current Working Directory:\", os.getcwd())\n",
        "\n",
        "# If necessary, change the directory\n",
        "# os.chdir(os.getcwd())\n"
      ],
      "metadata": {
        "colab": {
          "base_uri": "https://localhost:8080/"
        },
        "id": "3ybr3uaSAsWu",
        "outputId": "3fcbcede-d9ac-4d73-dde5-b6e885d874b0"
      },
      "execution_count": null,
      "outputs": [
        {
          "output_type": "stream",
          "name": "stdout",
          "text": [
            "Current Working Directory: /content\n"
          ]
        }
      ]
    },
    {
      "cell_type": "code",
      "source": [
        "import sys\n",
        "\n",
        "# Print current sys.path\n",
        "print(sys.path)\n",
        "# /content/mymodule.py\n",
        "# If necessary, append the directory containing 'mymodule.py' to sys.path\n",
        "sys.path.append('./content/mymodule.py')"
      ],
      "metadata": {
        "id": "jqI2HhJFA4l6"
      },
      "execution_count": null,
      "outputs": []
    },
    {
      "cell_type": "code",
      "source": [
        "%%writefile /full/path/to/mymodule.py\n",
        "def say_hi():\n",
        "    print('Hi, this is mymodule speaking.')\n",
        "__version__ = '0.1'\n"
      ],
      "metadata": {
        "id": "fE1ym9JyA4wL"
      },
      "execution_count": null,
      "outputs": []
    },
    {
      "cell_type": "code",
      "source": [],
      "metadata": {
        "id": "0VRqIsvlA4zf"
      },
      "execution_count": null,
      "outputs": []
    },
    {
      "cell_type": "code",
      "source": [
        "import mymodule\n",
        "\n",
        "mymodule.say_hi()\n",
        "print('Version', mymodule.__version__)"
      ],
      "metadata": {
        "colab": {
          "base_uri": "https://localhost:8080/",
          "height": 382
        },
        "id": "ofVqPfqB7lkZ",
        "outputId": "811b605a-5236-486d-e81b-001f751a995f"
      },
      "execution_count": null,
      "outputs": [
        {
          "output_type": "error",
          "ename": "ModuleNotFoundError",
          "evalue": "No module named 'mymodule'",
          "traceback": [
            "\u001b[0;31m---------------------------------------------------------------------------\u001b[0m",
            "\u001b[0;31mModuleNotFoundError\u001b[0m                       Traceback (most recent call last)",
            "\u001b[0;32m<ipython-input-17-88efaa283dc4>\u001b[0m in \u001b[0;36m<cell line: 1>\u001b[0;34m()\u001b[0m\n\u001b[0;32m----> 1\u001b[0;31m \u001b[0;32mimport\u001b[0m \u001b[0mmymodule\u001b[0m\u001b[0;34m\u001b[0m\u001b[0;34m\u001b[0m\u001b[0m\n\u001b[0m\u001b[1;32m      2\u001b[0m \u001b[0;34m\u001b[0m\u001b[0m\n\u001b[1;32m      3\u001b[0m \u001b[0mmymodule\u001b[0m\u001b[0;34m.\u001b[0m\u001b[0msay_hi\u001b[0m\u001b[0;34m(\u001b[0m\u001b[0;34m)\u001b[0m\u001b[0;34m\u001b[0m\u001b[0;34m\u001b[0m\u001b[0m\n\u001b[1;32m      4\u001b[0m \u001b[0mprint\u001b[0m\u001b[0;34m(\u001b[0m\u001b[0;34m'Version'\u001b[0m\u001b[0;34m,\u001b[0m \u001b[0mmymodule\u001b[0m\u001b[0;34m.\u001b[0m\u001b[0m__version__\u001b[0m\u001b[0;34m)\u001b[0m\u001b[0;34m\u001b[0m\u001b[0;34m\u001b[0m\u001b[0m\n",
            "\u001b[0;31mModuleNotFoundError\u001b[0m: No module named 'mymodule'",
            "",
            "\u001b[0;31m---------------------------------------------------------------------------\u001b[0;32m\nNOTE: If your import is failing due to a missing package, you can\nmanually install dependencies using either !pip or !apt.\n\nTo view examples of installing some common dependencies, click the\n\"Open Examples\" button below.\n\u001b[0;31m---------------------------------------------------------------------------\u001b[0m\n"
          ],
          "errorDetails": {
            "actions": [
              {
                "action": "open_url",
                "actionText": "Open Examples",
                "url": "/notebooks/snippets/importing_libraries.ipynb"
              }
            ]
          }
        }
      ]
    },
    {
      "cell_type": "markdown",
      "source": [
        "## generator\n"
      ],
      "metadata": {
        "id": "JVnSg8WB7lny"
      }
    },
    {
      "cell_type": "code",
      "source": [
        "(i for i in range(1000))"
      ],
      "metadata": {
        "colab": {
          "base_uri": "https://localhost:8080/"
        },
        "id": "JVkpZmNTh_vy",
        "outputId": "635dcfde-e83b-4f8a-ed77-54db667afda7"
      },
      "execution_count": null,
      "outputs": [
        {
          "output_type": "execute_result",
          "data": {
            "text/plain": [
              "<generator object <genexpr> at 0x7d15613845f0>"
            ]
          },
          "metadata": {},
          "execution_count": 7
        }
      ]
    },
    {
      "cell_type": "code",
      "source": [
        "%timeit (i for i in range(1000))"
      ],
      "metadata": {
        "colab": {
          "base_uri": "https://localhost:8080/"
        },
        "id": "4JtsD3QwhRVG",
        "outputId": "6908441e-9542-4319-aea8-42495ea8fce1"
      },
      "execution_count": null,
      "outputs": [
        {
          "output_type": "stream",
          "name": "stdout",
          "text": [
            "583 ns ± 107 ns per loop (mean ± std. dev. of 7 runs, 1000000 loops each)\n"
          ]
        }
      ]
    },
    {
      "cell_type": "code",
      "source": [
        "[i for i in range(1000)]"
      ],
      "metadata": {
        "id": "-b4T3XktiEPo"
      },
      "execution_count": null,
      "outputs": []
    },
    {
      "cell_type": "code",
      "source": [
        "%timeit [i for i in range(1000)]"
      ],
      "metadata": {
        "colab": {
          "base_uri": "https://localhost:8080/"
        },
        "id": "vASB6LJ_haA1",
        "outputId": "b5a1c7e1-1682-4ac3-84fb-b8fb3993a7f8"
      },
      "execution_count": null,
      "outputs": [
        {
          "output_type": "stream",
          "name": "stdout",
          "text": [
            "38.9 µs ± 637 ns per loop (mean ± std. dev. of 7 runs, 10000 loops each)\n"
          ]
        }
      ]
    }
  ]
}