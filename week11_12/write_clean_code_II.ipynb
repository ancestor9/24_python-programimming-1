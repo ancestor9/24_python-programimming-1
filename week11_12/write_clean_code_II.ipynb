{
  "nbformat": 4,
  "nbformat_minor": 0,
  "metadata": {
    "colab": {
      "provenance": []
    },
    "kernelspec": {
      "name": "python3",
      "display_name": "Python 3"
    },
    "language_info": {
      "name": "python"
    }
  },
  "cells": [
    {
      "cell_type": "markdown",
      "source": [
        "## **1. Using Comprehensions**"
      ],
      "metadata": {
        "id": "O2zg2HVkPAyj"
      }
    },
    {
      "cell_type": "code",
      "source": [
        "squares = []\n",
        "for i in range(1, 6):\n",
        "    squares.append(i ** 2)\n",
        "\n",
        "print(squares)"
      ],
      "metadata": {
        "colab": {
          "base_uri": "https://localhost:8080/"
        },
        "id": "Ii_U8hjcPCkr",
        "outputId": "3d92da17-8b44-4451-d56e-c5a8163ec905"
      },
      "execution_count": 7,
      "outputs": [
        {
          "output_type": "stream",
          "name": "stdout",
          "text": [
            "[1, 4, 9, 16, 25]\n"
          ]
        }
      ]
    },
    {
      "cell_type": "code",
      "source": [
        "[i ** 2 for i in range(1, 6)]"
      ],
      "metadata": {
        "colab": {
          "base_uri": "https://localhost:8080/"
        },
        "id": "IotvHkTRPCoF",
        "outputId": "04ca5efa-030a-404c-df5d-8d3467183221"
      },
      "execution_count": 8,
      "outputs": [
        {
          "output_type": "execute_result",
          "data": {
            "text/plain": [
              "[1, 4, 9, 16, 25]"
            ]
          },
          "metadata": {},
          "execution_count": 8
        }
      ]
    },
    {
      "cell_type": "markdown",
      "source": [
        "## **2. Using enumerate()**"
      ],
      "metadata": {
        "id": "64e2awMyNnDv"
      }
    },
    {
      "cell_type": "code",
      "source": [
        "vals = ['Python', 'is', 'fun!']\n",
        "\n",
        "for i in range(len(vals)):\n",
        "    print(i, vals[i])"
      ],
      "metadata": {
        "colab": {
          "base_uri": "https://localhost:8080/"
        },
        "id": "teaxp4LINn4w",
        "outputId": "9665a7c5-fb1c-48a3-9eeb-ab1a4a847687"
      },
      "execution_count": 1,
      "outputs": [
        {
          "output_type": "stream",
          "name": "stdout",
          "text": [
            "0 Python\n",
            "1 is\n",
            "2 fun!\n"
          ]
        }
      ]
    },
    {
      "cell_type": "code",
      "source": [
        "for idx, val in enumerate(vals):\n",
        "    print(idx, val)"
      ],
      "metadata": {
        "colab": {
          "base_uri": "https://localhost:8080/"
        },
        "id": "jcrvX3C8Nn7C",
        "outputId": "1c328ae1-d4db-4d47-8bfd-440452ec2901"
      },
      "execution_count": 2,
      "outputs": [
        {
          "output_type": "stream",
          "name": "stdout",
          "text": [
            "0 Python\n",
            "1 is\n",
            "2 fun!\n"
          ]
        }
      ]
    },
    {
      "cell_type": "code",
      "source": [
        "mydict = {}\n",
        "for idx, val in enumerate(vals):\n",
        "    mydict[idx] = val"
      ],
      "metadata": {
        "id": "CTmoqwfIOX6i"
      },
      "execution_count": 3,
      "outputs": []
    },
    {
      "cell_type": "code",
      "source": [
        "mydict"
      ],
      "metadata": {
        "colab": {
          "base_uri": "https://localhost:8080/"
        },
        "id": "QmigSxt1OX94",
        "outputId": "18b17bed-a77a-4c6b-9737-075145fe8359"
      },
      "execution_count": 4,
      "outputs": [
        {
          "output_type": "execute_result",
          "data": {
            "text/plain": [
              "{0: 'Python', 1: 'is', 2: 'fun!'}"
            ]
          },
          "metadata": {},
          "execution_count": 4
        }
      ]
    },
    {
      "cell_type": "markdown",
      "source": [
        "## **3. Using the Ternary Operator**"
      ],
      "metadata": {
        "id": "NmsiQcTsNn-t"
      }
    },
    {
      "cell_type": "code",
      "source": [
        "amount = 100\n",
        "\n",
        "if amount > 50:\n",
        "    raise_amount = 20\n",
        "else:\n",
        "    raise_amount = 10\n",
        "\n",
        "print(raise_amount)"
      ],
      "metadata": {
        "colab": {
          "base_uri": "https://localhost:8080/"
        },
        "id": "Zpon7SkXOkNw",
        "outputId": "b78656cd-4768-4629-acf8-9a5413c628d5"
      },
      "execution_count": 5,
      "outputs": [
        {
          "output_type": "stream",
          "name": "stdout",
          "text": [
            "20\n"
          ]
        }
      ]
    },
    {
      "cell_type": "code",
      "source": [
        "raise_amount = 20 if amount > 50 else 10 # 1타 쌍피\n",
        "print(raise_amount)"
      ],
      "metadata": {
        "colab": {
          "base_uri": "https://localhost:8080/"
        },
        "id": "dBePbqpIOkP6",
        "outputId": "7ae8dddd-117c-4a50-9fdb-c4383c25b7d3"
      },
      "execution_count": 6,
      "outputs": [
        {
          "output_type": "stream",
          "name": "stdout",
          "text": [
            "20\n"
          ]
        }
      ]
    },
    {
      "cell_type": "markdown",
      "source": [
        "## **4. Using itertools**\n",
        "### **No nested loop**"
      ],
      "metadata": {
        "id": "sXtdLEbJOkR4"
      }
    },
    {
      "cell_type": "code",
      "source": [
        "colors = ['Red', 'Green']\n",
        "sizes = ['S', 'M', 'L']\n",
        "\n",
        "for color in colors:\n",
        "    for size in sizes:\n",
        "        print(color, size)\n"
      ],
      "metadata": {
        "colab": {
          "base_uri": "https://localhost:8080/"
        },
        "id": "z_xClY2bOkUB",
        "outputId": "788dfac0-4d39-4633-afd8-9c419f54105d"
      },
      "execution_count": 9,
      "outputs": [
        {
          "output_type": "stream",
          "name": "stdout",
          "text": [
            "Red S\n",
            "Red M\n",
            "Red L\n",
            "Green S\n",
            "Green M\n",
            "Green L\n"
          ]
        }
      ]
    },
    {
      "cell_type": "code",
      "source": [
        "from itertools import product\n",
        "product(colors, sizes)"
      ],
      "metadata": {
        "colab": {
          "base_uri": "https://localhost:8080/"
        },
        "id": "bP-t2oYHPx9p",
        "outputId": "ff879743-31ac-4425-ddc3-18cedf203251"
      },
      "execution_count": 15,
      "outputs": [
        {
          "output_type": "execute_result",
          "data": {
            "text/plain": [
              "<itertools.product at 0x78ed7b8dcdc0>"
            ]
          },
          "metadata": {},
          "execution_count": 15
        }
      ]
    },
    {
      "cell_type": "code",
      "source": [
        "list(product(colors, sizes))"
      ],
      "metadata": {
        "colab": {
          "base_uri": "https://localhost:8080/"
        },
        "id": "OfdKvpfXQ4n7",
        "outputId": "d52edbb0-a0a2-48d9-cdee-cb59d92a38f3"
      },
      "execution_count": 16,
      "outputs": [
        {
          "output_type": "execute_result",
          "data": {
            "text/plain": [
              "[('Red', 'S'),\n",
              " ('Red', 'M'),\n",
              " ('Red', 'L'),\n",
              " ('Green', 'S'),\n",
              " ('Green', 'M'),\n",
              " ('Green', 'L')]"
            ]
          },
          "metadata": {},
          "execution_count": 16
        }
      ]
    },
    {
      "cell_type": "code",
      "source": [
        "for i in product(colors, sizes):\n",
        "    print(i)"
      ],
      "metadata": {
        "colab": {
          "base_uri": "https://localhost:8080/"
        },
        "id": "jD2fq2EGRC6J",
        "outputId": "b06a0a93-5872-49b2-a4f5-086cdbea64a8"
      },
      "execution_count": 20,
      "outputs": [
        {
          "output_type": "stream",
          "name": "stdout",
          "text": [
            "('Red', 'S')\n",
            "('Red', 'M')\n",
            "('Red', 'L')\n",
            "('Green', 'S')\n",
            "('Green', 'M')\n",
            "('Green', 'L')\n"
          ]
        }
      ]
    },
    {
      "cell_type": "code",
      "source": [
        "for color, size in product(colors, sizes):\n",
        "    print(color, size)"
      ],
      "metadata": {
        "colab": {
          "base_uri": "https://localhost:8080/"
        },
        "id": "2fg-6UqvQ2F8",
        "outputId": "f63b484b-b730-45c6-9d03-65fd48f90fc4"
      },
      "execution_count": 19,
      "outputs": [
        {
          "output_type": "stream",
          "name": "stdout",
          "text": [
            "Red S\n",
            "Red M\n",
            "Red L\n",
            "Green S\n",
            "Green M\n",
            "Green L\n"
          ]
        }
      ]
    },
    {
      "cell_type": "code",
      "source": [
        "from itertools import combinations\n",
        "\n",
        "text = list('abcde')\n",
        "\n",
        "for i, j in combinations(text, 2):\n",
        "    print(i,j)"
      ],
      "metadata": {
        "colab": {
          "base_uri": "https://localhost:8080/"
        },
        "id": "Gj02_78LQBXe",
        "outputId": "616c809a-695c-479c-9d00-d9be11a408d2"
      },
      "execution_count": 22,
      "outputs": [
        {
          "output_type": "stream",
          "name": "stdout",
          "text": [
            "a b\n",
            "a c\n",
            "a d\n",
            "a e\n",
            "b c\n",
            "b d\n",
            "b e\n",
            "c d\n",
            "c e\n",
            "d e\n"
          ]
        }
      ]
    },
    {
      "cell_type": "code",
      "source": [
        "for i, j, k in combinations(text, 3):\n",
        "    print(i,j, k)"
      ],
      "metadata": {
        "colab": {
          "base_uri": "https://localhost:8080/"
        },
        "id": "YXId_NVfQyJC",
        "outputId": "a3c0ecec-64c5-4289-bd5d-f7c55a9d87a1"
      },
      "execution_count": 23,
      "outputs": [
        {
          "output_type": "stream",
          "name": "stdout",
          "text": [
            "a b c\n",
            "a b d\n",
            "a b e\n",
            "a c d\n",
            "a c e\n",
            "a d e\n",
            "b c d\n",
            "b c e\n",
            "b d e\n",
            "c d e\n"
          ]
        }
      ]
    },
    {
      "cell_type": "code",
      "source": [
        "from itertools import pairwise\n",
        "vals = [1, 2, 3, 4]\n",
        "\n",
        "for pair in pairwise(vals):\n",
        "    print(pair)"
      ],
      "metadata": {
        "colab": {
          "base_uri": "https://localhost:8080/"
        },
        "id": "Fmsa58scQH7X",
        "outputId": "529b1a8c-9e8a-4315-cef2-4d81eac9626f"
      },
      "execution_count": 28,
      "outputs": [
        {
          "output_type": "stream",
          "name": "stdout",
          "text": [
            "(1, 2)\n",
            "(2, 3)\n",
            "(3, 4)\n"
          ]
        }
      ]
    },
    {
      "cell_type": "markdown",
      "source": [
        "# **lambda**"
      ],
      "metadata": {
        "id": "56IDNCvTOkXi"
      }
    },
    {
      "cell_type": "markdown",
      "source": [
        "<img src='https://miro.medium.com/v2/resize:fit:960/1*QXqq-wElxkqjBZ_e-HI2kw.png' width= 800>"
      ],
      "metadata": {
        "id": "qvqCxs0ChgEZ"
      }
    },
    {
      "cell_type": "code",
      "source": [
        "def func(x,y):\n",
        "    return x+y"
      ],
      "metadata": {
        "id": "UuJlexEshtDW"
      },
      "execution_count": null,
      "outputs": []
    },
    {
      "cell_type": "code",
      "source": [
        "func"
      ],
      "metadata": {
        "colab": {
          "base_uri": "https://localhost:8080/",
          "height": 103
        },
        "id": "dLoQ5clXh2kN",
        "outputId": "aaddb519-10b1-4acc-9964-becb5f1c8d14"
      },
      "execution_count": null,
      "outputs": [
        {
          "output_type": "execute_result",
          "data": {
            "text/plain": [
              "<function __main__.func(x, y)>"
            ],
            "text/html": [
              "<div style=\"max-width:800px; border: 1px solid var(--colab-border-color);\"><style>\n",
              "      pre.function-repr-contents {\n",
              "        overflow-x: auto;\n",
              "        padding: 8px 12px;\n",
              "        max-height: 500px;\n",
              "      }\n",
              "\n",
              "      pre.function-repr-contents.function-repr-contents-collapsed {\n",
              "        cursor: pointer;\n",
              "        max-height: 100px;\n",
              "      }\n",
              "    </style>\n",
              "    <pre style=\"white-space: initial; background:\n",
              "         var(--colab-secondary-surface-color); padding: 8px 12px;\n",
              "         border-bottom: 1px solid var(--colab-border-color);\"><b>func</b><br/>def func(x, y)</pre><pre class=\"function-repr-contents function-repr-contents-collapsed\" style=\"\"><a class=\"filepath\" style=\"display:none\" href=\"#\">/content/&lt;ipython-input-69-6c26f31b7a7e&gt;</a>&lt;no docstring&gt;</pre></div>"
            ]
          },
          "metadata": {},
          "execution_count": 72
        }
      ]
    },
    {
      "cell_type": "code",
      "source": [
        "func(1,2)"
      ],
      "metadata": {
        "colab": {
          "base_uri": "https://localhost:8080/"
        },
        "id": "mLSkKNgxhxOj",
        "outputId": "7b3a10af-97d3-4652-9636-f49d042b4fc0"
      },
      "execution_count": null,
      "outputs": [
        {
          "output_type": "execute_result",
          "data": {
            "text/plain": [
              "3"
            ]
          },
          "metadata": {},
          "execution_count": 71
        }
      ]
    },
    {
      "cell_type": "code",
      "source": [
        "lambda x,y: x+y"
      ],
      "metadata": {
        "colab": {
          "base_uri": "https://localhost:8080/"
        },
        "id": "VMOmYGLqh8KD",
        "outputId": "de6290ae-8d2d-4945-9091-0e79321b99fb"
      },
      "execution_count": null,
      "outputs": [
        {
          "output_type": "execute_result",
          "data": {
            "text/plain": [
              "<function __main__.<lambda>(x, y)>"
            ]
          },
          "metadata": {},
          "execution_count": 73
        }
      ]
    },
    {
      "cell_type": "code",
      "source": [
        "func = lambda x,y: x+y"
      ],
      "metadata": {
        "id": "CCIpSxuFiA6m"
      },
      "execution_count": null,
      "outputs": []
    },
    {
      "cell_type": "code",
      "source": [
        "func"
      ],
      "metadata": {
        "colab": {
          "base_uri": "https://localhost:8080/"
        },
        "id": "xIh8Qgo7iDSc",
        "outputId": "7cd5d5d6-16c9-4c86-923c-0dc1cd16cd39"
      },
      "execution_count": null,
      "outputs": [
        {
          "output_type": "execute_result",
          "data": {
            "text/plain": [
              "<function __main__.<lambda>(x, y)>"
            ]
          },
          "metadata": {},
          "execution_count": 75
        }
      ]
    },
    {
      "cell_type": "code",
      "source": [
        "func(1,2)"
      ],
      "metadata": {
        "colab": {
          "base_uri": "https://localhost:8080/"
        },
        "id": "xBbnEgNFiEyD",
        "outputId": "3c267c75-ba07-49f3-ecda-6776a1b66ad2"
      },
      "execution_count": null,
      "outputs": [
        {
          "output_type": "execute_result",
          "data": {
            "text/plain": [
              "3"
            ]
          },
          "metadata": {},
          "execution_count": 76
        }
      ]
    },
    {
      "cell_type": "markdown",
      "source": [
        "### **1. single value with lambda**"
      ],
      "metadata": {
        "id": "eSiXINs6Svq5"
      }
    },
    {
      "cell_type": "code",
      "source": [
        "def po(x):\n",
        "    return x*x"
      ],
      "metadata": {
        "id": "r3F9vS-ZUU4J"
      },
      "execution_count": null,
      "outputs": []
    },
    {
      "cell_type": "code",
      "source": [
        "po(3)"
      ],
      "metadata": {
        "colab": {
          "base_uri": "https://localhost:8080/"
        },
        "id": "ze9A88BSUeE9",
        "outputId": "6a7318e8-fbdf-4752-9c5a-0fe36f4d222a"
      },
      "execution_count": null,
      "outputs": [
        {
          "output_type": "execute_result",
          "data": {
            "text/plain": [
              "9"
            ]
          },
          "metadata": {},
          "execution_count": 10
        }
      ]
    },
    {
      "cell_type": "code",
      "source": [
        "po"
      ],
      "metadata": {
        "colab": {
          "base_uri": "https://localhost:8080/",
          "height": 103
        },
        "id": "ffSHAzqjUmHh",
        "outputId": "682c4431-6972-4f9e-f051-a8a62bf2693b"
      },
      "execution_count": null,
      "outputs": [
        {
          "output_type": "execute_result",
          "data": {
            "text/plain": [
              "<function __main__.po(x)>"
            ],
            "text/html": [
              "<div style=\"max-width:800px; border: 1px solid var(--colab-border-color);\"><style>\n",
              "      pre.function-repr-contents {\n",
              "        overflow-x: auto;\n",
              "        padding: 8px 12px;\n",
              "        max-height: 500px;\n",
              "      }\n",
              "\n",
              "      pre.function-repr-contents.function-repr-contents-collapsed {\n",
              "        cursor: pointer;\n",
              "        max-height: 100px;\n",
              "      }\n",
              "    </style>\n",
              "    <pre style=\"white-space: initial; background:\n",
              "         var(--colab-secondary-surface-color); padding: 8px 12px;\n",
              "         border-bottom: 1px solid var(--colab-border-color);\"><b>po</b><br/>def po(x)</pre><pre class=\"function-repr-contents function-repr-contents-collapsed\" style=\"\"><a class=\"filepath\" style=\"display:none\" href=\"#\">/content/&lt;ipython-input-9-cd8d4b91e9da&gt;</a>&lt;no docstring&gt;</pre></div>"
            ]
          },
          "metadata": {},
          "execution_count": 12
        }
      ]
    },
    {
      "cell_type": "code",
      "source": [
        "lambda x: x*x"
      ],
      "metadata": {
        "colab": {
          "base_uri": "https://localhost:8080/"
        },
        "id": "GHT6GtsnUg8p",
        "outputId": "a44fafee-583d-4cef-c717-447cb33fef09"
      },
      "execution_count": null,
      "outputs": [
        {
          "output_type": "execute_result",
          "data": {
            "text/plain": [
              "<function __main__.<lambda>(x)>"
            ]
          },
          "metadata": {},
          "execution_count": 11
        }
      ]
    },
    {
      "cell_type": "code",
      "source": [
        "(lambda x: x*x)(4)"
      ],
      "metadata": {
        "colab": {
          "base_uri": "https://localhost:8080/"
        },
        "id": "f3a5qUtGUpaQ",
        "outputId": "db7a0c94-df5c-44ff-84f9-f65c3cd0012a"
      },
      "execution_count": null,
      "outputs": [
        {
          "output_type": "execute_result",
          "data": {
            "text/plain": [
              "16"
            ]
          },
          "metadata": {},
          "execution_count": 14
        }
      ]
    },
    {
      "cell_type": "code",
      "source": [
        "po1 = lambda x: x*x\n",
        "po1"
      ],
      "metadata": {
        "colab": {
          "base_uri": "https://localhost:8080/"
        },
        "id": "J3KUg7IzUw6Y",
        "outputId": "41a0a2a8-44a1-4520-9d9f-7b306f586be3"
      },
      "execution_count": null,
      "outputs": [
        {
          "output_type": "execute_result",
          "data": {
            "text/plain": [
              "<function __main__.<lambda>(x)>"
            ]
          },
          "metadata": {},
          "execution_count": 15
        }
      ]
    },
    {
      "cell_type": "code",
      "source": [
        "po1(4)"
      ],
      "metadata": {
        "colab": {
          "base_uri": "https://localhost:8080/"
        },
        "id": "b2c7iYmZU2iU",
        "outputId": "4c572818-df85-4e98-d042-b371d1611d85"
      },
      "execution_count": null,
      "outputs": [
        {
          "output_type": "execute_result",
          "data": {
            "text/plain": [
              "16"
            ]
          },
          "metadata": {},
          "execution_count": 16
        }
      ]
    },
    {
      "cell_type": "code",
      "source": [
        "def even(x):\n",
        "    if x % 2 == 0:\n",
        "        return x**2\n",
        "    else:\n",
        "        pass"
      ],
      "metadata": {
        "id": "Vunz0Do4TQh3"
      },
      "execution_count": null,
      "outputs": []
    },
    {
      "cell_type": "code",
      "source": [
        "even(4)"
      ],
      "metadata": {
        "colab": {
          "base_uri": "https://localhost:8080/"
        },
        "id": "xW1_xeQdVAYm",
        "outputId": "f31daa7e-d31c-4524-b7f9-b4f0d0727813"
      },
      "execution_count": null,
      "outputs": [
        {
          "output_type": "execute_result",
          "data": {
            "text/plain": [
              "16"
            ]
          },
          "metadata": {},
          "execution_count": 23
        }
      ]
    },
    {
      "cell_type": "code",
      "source": [
        "even(5)"
      ],
      "metadata": {
        "id": "i1NGju4ITdp3"
      },
      "execution_count": null,
      "outputs": []
    },
    {
      "cell_type": "code",
      "source": [
        "# prompt: def even(x):\n",
        "#     if x % 2 == 0:\n",
        "#         return x**2\n",
        "#     else:\n",
        "#         pass\n",
        "# lambda 함수로 표현\n",
        "\n",
        "even_lambda = lambda x: x**2 if x % 2 == 0 else None\n",
        "even_lambda(4)"
      ],
      "metadata": {
        "colab": {
          "base_uri": "https://localhost:8080/"
        },
        "id": "iJpj0qiQVL7X",
        "outputId": "22279012-896c-44b5-a237-016ade05c394"
      },
      "execution_count": null,
      "outputs": [
        {
          "output_type": "execute_result",
          "data": {
            "text/plain": [
              "16"
            ]
          },
          "metadata": {},
          "execution_count": 26
        }
      ]
    },
    {
      "cell_type": "code",
      "source": [
        "even_lambda(7)"
      ],
      "metadata": {
        "id": "q27oUaiwVYUe"
      },
      "execution_count": null,
      "outputs": []
    },
    {
      "cell_type": "markdown",
      "source": [
        "## **2. multiple value with lambda**"
      ],
      "metadata": {
        "id": "kuZZQy7OVo2Q"
      }
    },
    {
      "cell_type": "code",
      "source": [
        "arr = list(range(1, 11))\n",
        "arr"
      ],
      "metadata": {
        "colab": {
          "base_uri": "https://localhost:8080/"
        },
        "id": "IYIUyDXsTkAr",
        "outputId": "a5fcf5c2-fc60-4989-8e44-56ac608a19b1"
      },
      "execution_count": null,
      "outputs": [
        {
          "output_type": "execute_result",
          "data": {
            "text/plain": [
              "[1, 2, 3, 4, 5, 6, 7, 8, 9, 10]"
            ]
          },
          "metadata": {},
          "execution_count": 97
        }
      ]
    },
    {
      "cell_type": "code",
      "source": [
        "po(arr)"
      ],
      "metadata": {
        "colab": {
          "base_uri": "https://localhost:8080/",
          "height": 218
        },
        "id": "xP-is8oSWHso",
        "outputId": "6f44ef44-b966-47c7-ee35-396a5d0fc5a8"
      },
      "execution_count": null,
      "outputs": [
        {
          "output_type": "error",
          "ename": "TypeError",
          "evalue": "can't multiply sequence by non-int of type 'list'",
          "traceback": [
            "\u001b[0;31m---------------------------------------------------------------------------\u001b[0m",
            "\u001b[0;31mTypeError\u001b[0m                                 Traceback (most recent call last)",
            "\u001b[0;32m<ipython-input-81-ecf94ebe28e4>\u001b[0m in \u001b[0;36m<cell line: 1>\u001b[0;34m()\u001b[0m\n\u001b[0;32m----> 1\u001b[0;31m \u001b[0mpo\u001b[0m\u001b[0;34m(\u001b[0m\u001b[0marr\u001b[0m\u001b[0;34m)\u001b[0m\u001b[0;34m\u001b[0m\u001b[0;34m\u001b[0m\u001b[0m\n\u001b[0m",
            "\u001b[0;32m<ipython-input-9-cd8d4b91e9da>\u001b[0m in \u001b[0;36mpo\u001b[0;34m(x)\u001b[0m\n\u001b[1;32m      1\u001b[0m \u001b[0;32mdef\u001b[0m \u001b[0mpo\u001b[0m\u001b[0;34m(\u001b[0m\u001b[0mx\u001b[0m\u001b[0;34m)\u001b[0m\u001b[0;34m:\u001b[0m\u001b[0;34m\u001b[0m\u001b[0;34m\u001b[0m\u001b[0m\n\u001b[0;32m----> 2\u001b[0;31m     \u001b[0;32mreturn\u001b[0m \u001b[0mx\u001b[0m\u001b[0;34m*\u001b[0m\u001b[0mx\u001b[0m\u001b[0;34m\u001b[0m\u001b[0;34m\u001b[0m\u001b[0m\n\u001b[0m",
            "\u001b[0;31mTypeError\u001b[0m: can't multiply sequence by non-int of type 'list'"
          ]
        }
      ]
    },
    {
      "cell_type": "code",
      "source": [
        "for i in range(len(arr)):\n",
        "    print(po(arr[i]))"
      ],
      "metadata": {
        "colab": {
          "base_uri": "https://localhost:8080/"
        },
        "id": "HEhSI58rTn0H",
        "outputId": "46656286-afd8-4842-90ab-e8e9421a4f3f"
      },
      "execution_count": null,
      "outputs": [
        {
          "output_type": "stream",
          "name": "stdout",
          "text": [
            "1\n",
            "4\n",
            "9\n",
            "16\n",
            "25\n"
          ]
        }
      ]
    },
    {
      "cell_type": "code",
      "source": [
        "# prompt: for i in range(len(arr)):\n",
        "#     print(po(arr[i]))\n",
        "# lambda로 표현\n",
        "\n",
        "for i in range(len(arr)):\n",
        "    print((lambda x: x*x)(arr[i]))\n"
      ],
      "metadata": {
        "colab": {
          "base_uri": "https://localhost:8080/"
        },
        "id": "oBdI-dDoWyj8",
        "outputId": "e413e6a8-6d03-4847-9312-8831e3aaed28"
      },
      "execution_count": null,
      "outputs": [
        {
          "output_type": "stream",
          "name": "stdout",
          "text": [
            "1\n",
            "4\n",
            "9\n",
            "16\n",
            "25\n"
          ]
        }
      ]
    },
    {
      "cell_type": "code",
      "source": [
        "# prompt: # prompt: def even(x):\n",
        "# #     if x % 2 == 0:\n",
        "# #         return x**2\n",
        "# #     else:\n",
        "# #         pass\n",
        "# # lambda 함수로 표현\n",
        "# x를 list로 입력하려면 lambda로 표현하면\n",
        "\n",
        "even_lambda = lambda x: x**2 if x % 2 == 0 else None"
      ],
      "metadata": {
        "id": "Rt3imfySXEiv"
      },
      "execution_count": null,
      "outputs": []
    },
    {
      "cell_type": "code",
      "source": [
        "even_lambda, arr"
      ],
      "metadata": {
        "colab": {
          "base_uri": "https://localhost:8080/"
        },
        "id": "lgYoHOS9ctAw",
        "outputId": "772d7517-c8d6-47f9-c801-8288d468edd9"
      },
      "execution_count": null,
      "outputs": [
        {
          "output_type": "execute_result",
          "data": {
            "text/plain": [
              "(<function __main__.<lambda>(x)>, [1, 2, 3, 4, 5])"
            ]
          },
          "metadata": {},
          "execution_count": 85
        }
      ]
    },
    {
      "cell_type": "code",
      "source": [
        "from IPython.core.interactiveshell import InteractiveShell\n",
        "InteractiveShell.ast_node_interactivity = \"all\""
      ],
      "metadata": {
        "id": "gHds5MgEe0GF"
      },
      "execution_count": null,
      "outputs": []
    },
    {
      "cell_type": "markdown",
      "source": [
        "### **map(function, iterable)**"
      ],
      "metadata": {
        "id": "N7SalgHVgir0"
      }
    },
    {
      "cell_type": "code",
      "source": [],
      "metadata": {
        "id": "v7Fv5yH2heaR"
      },
      "execution_count": null,
      "outputs": []
    },
    {
      "cell_type": "code",
      "source": [
        "map(even_lambda, arr)\n",
        "\n",
        "list(map(even_lambda, arr))"
      ],
      "metadata": {
        "colab": {
          "base_uri": "https://localhost:8080/"
        },
        "id": "rSrNBpZ-cu9r",
        "outputId": "83fda683-9d1e-4dc0-856d-b24edae3ff1b"
      },
      "execution_count": null,
      "outputs": [
        {
          "output_type": "execute_result",
          "data": {
            "text/plain": [
              "<map at 0x7d9174655ae0>"
            ]
          },
          "metadata": {},
          "execution_count": 87
        },
        {
          "output_type": "execute_result",
          "data": {
            "text/plain": [
              "[None, 4, None, 16, None]"
            ]
          },
          "metadata": {},
          "execution_count": 87
        }
      ]
    },
    {
      "cell_type": "markdown",
      "source": [
        "### **filter(function, iterable)**\n",
        "- is equivalent to the generator expression **(item for item in iterable if function(item))** if function is not None and (item for item in iterable if item) if function is None.\n",
        "- https://docs.python.org/3/library/functions.html#filter"
      ],
      "metadata": {
        "id": "Uu7pTM9Ffm8n"
      }
    },
    {
      "cell_type": "code",
      "source": [
        "filter(even_lambda, arr)\n",
        "\n",
        "list(filter(even_lambda, arr))"
      ],
      "metadata": {
        "colab": {
          "base_uri": "https://localhost:8080/"
        },
        "id": "eMt6A0gWcrV0",
        "outputId": "8b1dcd40-bf61-4a55-e77a-fc7b08fa5f43"
      },
      "execution_count": null,
      "outputs": [
        {
          "output_type": "execute_result",
          "data": {
            "text/plain": [
              "<filter at 0x7d9174654d00>"
            ]
          },
          "metadata": {},
          "execution_count": 88
        },
        {
          "output_type": "execute_result",
          "data": {
            "text/plain": [
              "[2, 4]"
            ]
          },
          "metadata": {},
          "execution_count": 88
        }
      ]
    },
    {
      "cell_type": "code",
      "source": [
        "# Filter the even numbers from the list\n",
        "even_numbers = list(filter(lambda x: x % 2 == 0, arr))\n",
        "\n",
        "# Square each even number\n",
        "squared_even_numbers = list(map(lambda x: x ** 2, even_numbers))\n",
        "\n",
        "# Print the squared even numbers\n",
        "print(squared_even_numbers)"
      ],
      "metadata": {
        "colab": {
          "base_uri": "https://localhost:8080/"
        },
        "id": "ZGKyj_lbcjkC",
        "outputId": "77d9c6ee-163a-4b2a-9eb3-1f333bbbce47"
      },
      "execution_count": null,
      "outputs": [
        {
          "output_type": "stream",
          "name": "stdout",
          "text": [
            "[4, 16]\n"
          ]
        }
      ]
    },
    {
      "cell_type": "code",
      "source": [
        "# Filter the even numbers from the list\n",
        "even_numbers = list(filter(even_lambda, arr))\n",
        "\n",
        "# Square each even number\n",
        "squared_even_numbers = list(map(even_lambda, even_numbers))\n",
        "\n",
        "# Print the squared even numbers\n",
        "print(squared_even_numbers)"
      ],
      "metadata": {
        "colab": {
          "base_uri": "https://localhost:8080/"
        },
        "id": "TnTF9y-zgSTT",
        "outputId": "ce92f0f6-9fb4-4383-9312-4c6c1f172d67"
      },
      "execution_count": null,
      "outputs": [
        {
          "output_type": "stream",
          "name": "stdout",
          "text": [
            "[4, 16]\n"
          ]
        }
      ]
    },
    {
      "cell_type": "code",
      "source": [
        "list(map(lambda x: x ** 2, even_numbers))"
      ],
      "metadata": {
        "colab": {
          "base_uri": "https://localhost:8080/"
        },
        "id": "XuicAIKueW_n",
        "outputId": "6cd498ac-1a24-41b5-9367-9e19251edfea"
      },
      "execution_count": null,
      "outputs": [
        {
          "output_type": "execute_result",
          "data": {
            "text/plain": [
              "[4, 16]"
            ]
          },
          "metadata": {},
          "execution_count": 91
        }
      ]
    },
    {
      "cell_type": "code",
      "source": [
        "# prompt: arr에서 짝수만 골라서 제곱을 시키는 함수 filter\n",
        "\n",
        "arr = list(range(1, 11))\n",
        "\n",
        "# Filter the even numbers from the list\n",
        "even_numbers = list(filter(lambda x: x % 2 == 0, arr))\n",
        "\n",
        "# Square each even number\n",
        "squared_even_numbers = list(map(lambda x: x ** 2, even_numbers))\n",
        "\n",
        "# Print the squared even numbers\n",
        "print(squared_even_numbers)\n"
      ],
      "metadata": {
        "colab": {
          "base_uri": "https://localhost:8080/"
        },
        "id": "ANYPslD7cQ9h",
        "outputId": "2b5d7bee-e34d-4838-9b60-a3d700d8ca92"
      },
      "execution_count": null,
      "outputs": [
        {
          "output_type": "stream",
          "name": "stdout",
          "text": [
            "[4, 16, 36, 64, 100]\n"
          ]
        }
      ]
    },
    {
      "cell_type": "code",
      "source": [
        "lambda x: x**2, arr"
      ],
      "metadata": {
        "colab": {
          "base_uri": "https://localhost:8080/"
        },
        "id": "gHmNZhDjTI0T",
        "outputId": "ccb7ad97-8fbc-4f4e-dd37-35658a1c865a"
      },
      "execution_count": null,
      "outputs": [
        {
          "output_type": "execute_result",
          "data": {
            "text/plain": [
              "(<function __main__.<lambda>(x)>, [1, 2, 3, 4, 5, 6, 7, 8, 9, 10])"
            ]
          },
          "metadata": {},
          "execution_count": 41
        }
      ]
    },
    {
      "cell_type": "markdown",
      "source": [
        "## **pipe**\n",
        "- Pipe is a Python library that enables you to use pipes in Python.\n",
        "- **A pipe (|) passes the results of one method to another method.**\n",
        "- Write Clean Python Code Using Pipes\n",
        "\n",
        "https://towardsdatascience.com/write-clean-python-code-using-pipes-1239a0f3abf5"
      ],
      "metadata": {
        "id": "bJhDVfH2TO7W"
      }
    },
    {
      "cell_type": "code",
      "source": [
        "arr\n",
        "\n",
        "list(map(lambda x: x ** 2,                   # mapping\n",
        "         filter(lambda x: x % 2 == 0, arr)   # if --> filtering\n",
        "         )\n",
        ")"
      ],
      "metadata": {
        "colab": {
          "base_uri": "https://localhost:8080/"
        },
        "id": "epwQIywQijRL",
        "outputId": "d9231730-c867-434e-c0b1-593321e3bf85"
      },
      "execution_count": null,
      "outputs": [
        {
          "output_type": "execute_result",
          "data": {
            "text/plain": [
              "[1, 2, 3, 4, 5, 6, 7, 8, 9, 10]"
            ]
          },
          "metadata": {},
          "execution_count": 95
        },
        {
          "output_type": "execute_result",
          "data": {
            "text/plain": [
              "[4, 16, 36, 64, 100]"
            ]
          },
          "metadata": {},
          "execution_count": 95
        }
      ]
    },
    {
      "cell_type": "code",
      "source": [
        "list(map(lambda x: x ** 2, filter(lambda x: x % 2 == 0, arr)))"
      ],
      "metadata": {
        "colab": {
          "base_uri": "https://localhost:8080/"
        },
        "id": "zerNL8Ndiyfm",
        "outputId": "96a98f7f-ba27-4180-c3ec-51c9b23e3328"
      },
      "execution_count": null,
      "outputs": [
        {
          "output_type": "execute_result",
          "data": {
            "text/plain": [
              "[4, 16, 36, 64, 100]"
            ]
          },
          "metadata": {},
          "execution_count": 96
        }
      ]
    },
    {
      "cell_type": "code",
      "source": [
        "! pip install pipe"
      ],
      "metadata": {
        "colab": {
          "base_uri": "https://localhost:8080/"
        },
        "id": "vtPZi-hskCSL",
        "outputId": "29d868b3-15de-41c5-e45a-5a6b71303ebd"
      },
      "execution_count": null,
      "outputs": [
        {
          "output_type": "stream",
          "name": "stdout",
          "text": [
            "Collecting pipe\n",
            "  Downloading pipe-2.2-py3-none-any.whl (9.7 kB)\n",
            "Installing collected packages: pipe\n",
            "Successfully installed pipe-2.2\n"
          ]
        }
      ]
    },
    {
      "cell_type": "code",
      "source": [
        "from pipe import select, where"
      ],
      "metadata": {
        "id": "TQI6XW7Djqef"
      },
      "execution_count": null,
      "outputs": []
    },
    {
      "cell_type": "code",
      "source": [
        "list(arr\n",
        "     | where(lambda x: x % 2 == 0)\n",
        "     | select(lambda x: x ** 2,)\n",
        ")"
      ],
      "metadata": {
        "colab": {
          "base_uri": "https://localhost:8080/"
        },
        "id": "9Gx5ZI-Oj-x1",
        "outputId": "20d8d474-f795-499b-f4bb-6b9115fa20ba"
      },
      "execution_count": null,
      "outputs": [
        {
          "output_type": "execute_result",
          "data": {
            "text/plain": [
              "[4, 16, 36, 64, 100]"
            ]
          },
          "metadata": {},
          "execution_count": 101
        }
      ]
    },
    {
      "cell_type": "code",
      "source": [
        "result = list(\n",
        "    (1, 2, 3, 4, 5, 6, 7, 8, 9)\n",
        "    | groupby(lambda x: \"Even\" if x % 2 == 0 else \"Odd\")\n",
        "    | select(lambda x: {x[0]: list(x[1] | where(lambda x: x > 2))})\n",
        ")\n",
        "\n",
        "result"
      ],
      "metadata": {
        "colab": {
          "base_uri": "https://localhost:8080/"
        },
        "id": "-ZXq374Yklri",
        "outputId": "ddbe74f0-921a-465b-d855-cc8af2694953"
      },
      "execution_count": null,
      "outputs": [
        {
          "output_type": "execute_result",
          "data": {
            "text/plain": [
              "[{'Even': [4, 6, 8]}, {'Odd': [3, 5, 7, 9]}]"
            ]
          },
          "metadata": {},
          "execution_count": 104
        }
      ]
    }
  ]
}